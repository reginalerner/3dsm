{
 "cells": [
  {
   "cell_type": "code",
   "execution_count": 1,
   "metadata": {
    "colab": {},
    "colab_type": "code",
    "collapsed": true,
    "id": "_kfEDc9CdGne"
   },
   "outputs": [],
   "source": [
    "import networkx as nx\n",
    "import matplotlib.pyplot as plt\n",
    "import numpy as np\n",
    "from itertools import combinations"
   ]
  },
  {
   "cell_type": "code",
   "execution_count": 3,
   "metadata": {},
   "outputs": [
    {
     "ename": "ValueError",
     "evalue": "Object arrays cannot be loaded when allow_pickle=False",
     "output_type": "error",
     "traceback": [
      "\u001b[1;31m---------------------------------------------------------------------------\u001b[0m",
      "\u001b[1;31mValueError\u001b[0m                                Traceback (most recent call last)",
      "\u001b[1;32m<ipython-input-3-341b97ec299b>\u001b[0m in \u001b[0;36m<module>\u001b[1;34m()\u001b[0m\n\u001b[1;32m----> 1\u001b[1;33m \u001b[0mg\u001b[0m \u001b[1;33m=\u001b[0m \u001b[0mnp\u001b[0m\u001b[1;33m.\u001b[0m\u001b[0mload\u001b[0m\u001b[1;33m(\u001b[0m\u001b[1;34m'graphs/graph_edges_5_0.npy'\u001b[0m\u001b[1;33m)\u001b[0m\u001b[1;33m\u001b[0m\u001b[0m\n\u001b[0m\u001b[0;32m      2\u001b[0m \u001b[0mg\u001b[0m\u001b[1;33m\u001b[0m\u001b[0m\n\u001b[0;32m      3\u001b[0m \u001b[1;31m#sum([0, 2, 9, 8, 29, 18])\u001b[0m\u001b[1;33m\u001b[0m\u001b[1;33m\u001b[0m\u001b[0m\n",
      "\u001b[1;32mc:\\users\\dell\\appdata\\local\\programs\\python\\python36\\lib\\site-packages\\numpy\\lib\\npyio.py\u001b[0m in \u001b[0;36mload\u001b[1;34m(file, mmap_mode, allow_pickle, fix_imports, encoding)\u001b[0m\n\u001b[0;32m    438\u001b[0m             \u001b[1;32melse\u001b[0m\u001b[1;33m:\u001b[0m\u001b[1;33m\u001b[0m\u001b[0m\n\u001b[0;32m    439\u001b[0m                 return format.read_array(fid, allow_pickle=allow_pickle,\n\u001b[1;32m--> 440\u001b[1;33m                                          pickle_kwargs=pickle_kwargs)\n\u001b[0m\u001b[0;32m    441\u001b[0m         \u001b[1;32melse\u001b[0m\u001b[1;33m:\u001b[0m\u001b[1;33m\u001b[0m\u001b[0m\n\u001b[0;32m    442\u001b[0m             \u001b[1;31m# Try a pickle\u001b[0m\u001b[1;33m\u001b[0m\u001b[1;33m\u001b[0m\u001b[0m\n",
      "\u001b[1;32mc:\\users\\dell\\appdata\\local\\programs\\python\\python36\\lib\\site-packages\\numpy\\lib\\format.py\u001b[0m in \u001b[0;36mread_array\u001b[1;34m(fp, allow_pickle, pickle_kwargs)\u001b[0m\n\u001b[0;32m    725\u001b[0m         \u001b[1;31m# The array contained Python objects. We need to unpickle the data.\u001b[0m\u001b[1;33m\u001b[0m\u001b[1;33m\u001b[0m\u001b[0m\n\u001b[0;32m    726\u001b[0m         \u001b[1;32mif\u001b[0m \u001b[1;32mnot\u001b[0m \u001b[0mallow_pickle\u001b[0m\u001b[1;33m:\u001b[0m\u001b[1;33m\u001b[0m\u001b[0m\n\u001b[1;32m--> 727\u001b[1;33m             raise ValueError(\"Object arrays cannot be loaded when \"\n\u001b[0m\u001b[0;32m    728\u001b[0m                              \"allow_pickle=False\")\n\u001b[0;32m    729\u001b[0m         \u001b[1;32mif\u001b[0m \u001b[0mpickle_kwargs\u001b[0m \u001b[1;32mis\u001b[0m \u001b[1;32mNone\u001b[0m\u001b[1;33m:\u001b[0m\u001b[1;33m\u001b[0m\u001b[0m\n",
      "\u001b[1;31mValueError\u001b[0m: Object arrays cannot be loaded when allow_pickle=False"
     ]
    }
   ],
   "source": [
    "g = np.load('graphs/graph_edges_5_0.npy')\n",
    "g\n",
    "#sum([0, 2, 9, 8, 29, 18])"
   ]
  },
  {
   "cell_type": "code",
   "execution_count": null,
   "metadata": {
    "colab": {},
    "colab_type": "code",
    "collapsed": true,
    "id": "edGxYKaJVdq4"
   },
   "outputs": [],
   "source": [
    "class Edge:\n",
    "    def __init__(self, _from, _to, _weight):\n",
    "        '''\n",
    "        У структуры ребра 3 поля: откуда, куда и вес ребра.\n",
    "        Вес ребра \\in {1, 2, 3},\n",
    "        Ребро с весом 1 -- самое любимое\n",
    "        '''\n",
    "        self._from =  _from\n",
    "        self._to  = _to\n",
    "        self._weight = _weight\n",
    "        \n",
    "    def  __eq__(self, other):\n",
    "        '''\n",
    "        Определяет оператор '=' на ребрах\n",
    "        '''\n",
    "        return (self._from == other._from and\n",
    "                         self._to == other._to) \n",
    "        \n",
    "        \n",
    "class PreferenceGraph:\n",
    "    def __init__(self, basic_edges_index, code):\n",
    "        '''\n",
    "        edges -- список смежности \n",
    "        (лист длины 9, для каждой из вершин хранится \n",
    "        список ребер, которые из нее исходят)\n",
    "        '''\n",
    "        self.edges = [[] for _ in range(9)]\n",
    "        self.add_basic_edges(basic_edges_index)\n",
    "        self.add_other_edges(code)\n",
    "        \n",
    "    def show_edges(self):\n",
    "        '''\n",
    "        Печатает все ребра\n",
    "        '''\n",
    "        for i in range(9):\n",
    "            for e in self.edges[i]:\n",
    "                print('(from: {}, to: {}, weight: {})'.format(\n",
    "                  str(e._from), str(e._to), str(e._weight)))\n",
    "                print('\\n')        \n",
    "\n",
    "    def draw_edges(self):\n",
    "        '''\n",
    "        Рисует картинку с графом\n",
    "        '''\n",
    "        plt.figure(figsize=(16, 8))\n",
    "        G = nx.DiGraph()\n",
    "        G.add_nodes_from(range(9))\n",
    "        for i in range(9):\n",
    "            for e in self.edges[i]:\n",
    "                G.add_edge(e._from, e._to, weight=e._weight)\n",
    "        pos = nx.spring_layout(G)\n",
    "        edge_labels=dict([((u, v,), d['weight'])\n",
    "                 for u, v, d in G.edges(data=True)])\n",
    "        get_color = lambda n: 'r' if n % 3 == 0 else (\n",
    "            'g' if n % 3 == 1 else 'b')\n",
    "        nx.draw_networkx_nodes(G, pos, node_size = 500,\n",
    "                              node_color=[get_color(i) for i in range(9)])\n",
    "        nx.draw_networkx_labels(G, pos)\n",
    "        nx.draw_networkx_edges(G, pos, arrows=True)\n",
    "        nx.draw_networkx_edge_labels(G, pos, edge_labels=edge_labels)\n",
    "        plt.show()\n",
    "                \n",
    "        \n",
    "    def add_edge(self, _from, _to, _weight):\n",
    "        '''\n",
    "        Добавляет в список смежности ребро\n",
    "        '''\n",
    "        self.edges[_from].append(Edge(_from, _to, _weight))\n",
    "        \n",
    "        \n",
    "    def add_basic_edges(self, index):\n",
    "        '''\n",
    "        index \\in {0, 1, 2, 3, 4, 5}\n",
    "        В зависимости от индекса строится граф G''\n",
    "        (добавляются ребра веса 1)\n",
    "        '''\n",
    "        if index == 0:\n",
    "            '''\n",
    "            цикл длины 9\n",
    "            '''\n",
    "            for i in range(9):\n",
    "                self.add_edge(i % 9, (i + 1) % 9, 1)\n",
    "        elif index == 1:\n",
    "            '''\n",
    "            цикл длины 6, отросток длины 3\n",
    "            '''\n",
    "            for i in range(6):\n",
    "                self.add_edge(i % 6, (i + 1) % 6, 1)\n",
    "            self.add_edge(6, 7, 1)\n",
    "            self.add_edge(7, 8, 1)\n",
    "            self.add_edge(8, 0, 1)    \n",
    "        elif index == 2:\n",
    "            '''\n",
    "            цикл длины 6, откростки длины 2 и 1 подряд\n",
    "            '''\n",
    "            for i in range(6):\n",
    "                self.add_edge(i % 6, (i + 1) % 6, 1)\n",
    "            self.add_edge(6, 1, 1)\n",
    "            self.add_edge(7, 8, 1)\n",
    "            self.add_edge(8, 0, 1)\n",
    "        elif index == 3:\n",
    "            '''\n",
    "            цикл длины 6, отростки длины 2 и 1 через одну вершину\n",
    "            '''\n",
    "            for i in range(6):\n",
    "                self.add_edge(i % 6, (i + 1) % 6, 1)\n",
    "            self.add_edge(6, 4, 1)\n",
    "            self.add_edge(7, 8, 1)\n",
    "            self.add_edge(8, 0, 1)\n",
    "        elif index == 4:\n",
    "            '''\n",
    "            цикл длины 6, три отростка длины 1 подряд\n",
    "            '''\n",
    "            for i in range(6):\n",
    "                self.add_edge(i % 6, (i + 1) % 6, 1)\n",
    "            self.add_edge(6, 1, 1)\n",
    "            self.add_edge(7, 2, 1)\n",
    "            self.add_edge(8, 0, 1)\n",
    "        elif index == 5:\n",
    "            '''\n",
    "            цикл длины 6, три отростка длины 1 через одного\n",
    "            '''\n",
    "            for i in range(6):\n",
    "                self.add_edge(i % 6, (i + 1) % 6, 1)\n",
    "            self.add_edge(6, 4, 1)\n",
    "            self.add_edge(7, 2, 1)\n",
    "            self.add_edge(8, 0, 1)\n",
    "            \n",
    "    def add_other_edges(self, code):\n",
    "        for i in range(9):\n",
    "            neighbours = {(i + 1) % 9, (i + 4) % 9, (i + 7) % 9}\n",
    "            neighbours.remove(self.edges[i][0]._to)\n",
    "            neighbours = list(neighbours) # список из двух вершин, \n",
    "            # в которые могут идти ребра веса 2 и 3 из вершины i\n",
    "            if code[i] == '0':\n",
    "                continue\n",
    "            if code[i] == '1':\n",
    "                self.edges[i].append(Edge(i, neighbours[0], 2))\n",
    "            if code[i] == '2':\n",
    "                self.edges[i].append(Edge(i, neighbours[1], 2))\n",
    "            if code[i] == '3':\n",
    "                self.edges[i].append(Edge(i, neighbours[0], 2))\n",
    "                self.edges[i].append(Edge(i, neighbours[1], 3))\n",
    "            if code[i] == '4':\n",
    "                self.edges[i].append(Edge(i, neighbours[0], 3))\n",
    "                self.edges[i].append(Edge(i, neighbours[1], 2))\n",
    "    \n",
    "    def check_threes_comb(self, comb):\n",
    "        '''\n",
    "        На вход дается трисочетание из одной, двух или трех троек.\n",
    "        Проверяем по ребрам, возможно ли оно для данного графа.\n",
    "        Если возможно, то возвращаем список длины 9, \n",
    "            где на i-м месте стоит вес ребра, которое \n",
    "            в трисочетании исходит из i-й вершины\n",
    "            (если ничего не исходит, то вес 4)\n",
    "        Если невозможно, возвращаем []    \n",
    "        '''\n",
    "        weights = [4] * 9\n",
    "        for three in comb:\n",
    "            man = [it for it in three if it % 3 == 0][0]\n",
    "            woman = [it for it in three if it % 3 == 1][0]\n",
    "            dog = [it for it in three if it % 3 == 2][0]\n",
    "            \n",
    "            edges1 = list(filter(\n",
    "                lambda e: e._from == man and e._to == woman, self.edges[man]))\n",
    "            edges2 = list(filter(\n",
    "                lambda e: e._from == woman and e._to == dog, self.edges[woman]))\n",
    "            edges3 = list(filter(\n",
    "                lambda e: e._from == dog and e._to == man, self.edges[dog]))\n",
    "            if not (len(edges1) == 1 and len(edges2) == 1 \n",
    "                    and len(edges3) == 1):\n",
    "                return []\n",
    "            else:\n",
    "                weights[edges1[0]._from] = edges1[0]._weight\n",
    "                weights[edges2[0]._from] = edges2[0]._weight\n",
    "                weights[edges3[0]._from] = edges3[0]._weight\n",
    "        return weights\n",
    "    \n",
    "    \n",
    "    def find_blocking_for_comb(self, comb):\n",
    "        '''\n",
    "        Дается трисочетание.\n",
    "        Проверяем, возможно ли оно в данном графе \n",
    "        через check_threes_comb.\n",
    "        Если возможно, то получаем в ответ веса.\n",
    "        Далее пробегаемся по всем возможным тройкам,\n",
    "        проверяем, есть ли среди них блокирующая.\n",
    "        (возвращает True если есть и False если нет)\n",
    "        '''\n",
    "        weights = self.check_threes_comb(comb)\n",
    "        if weights == []:\n",
    "            return None\n",
    "        threes = np.array(np.meshgrid([0, 3, 6], [1, 4, 7], [2, 8, 5])).T.reshape(-1, 3)\n",
    "        for three in threes:\n",
    "            man = [it for it in three if it % 3 == 0][0]\n",
    "            woman = [it for it in three if it % 3 == 1][0]\n",
    "            dog = [it for it in three if it % 3 == 2][0]\n",
    "            \n",
    "            edges1 = list(filter(\n",
    "                lambda e: e._from == man and e._to == woman, self.edges[man])) \n",
    "            edges2 = list(filter(\n",
    "                lambda e: e._from == woman and e._to == dog, self.edges[woman]))\n",
    "            edges3 = list(filter(\n",
    "                lambda e: e._from == dog and e._to == man, self.edges[dog]))\n",
    "            if not (len(edges1) == 1 and len(edges2) == 1 \n",
    "                    and len(edges3) == 1):\n",
    "                continue\n",
    "            if weights[edges1[0]._from] > edges1[0]._weight \\\n",
    "            and weights[edges2[0]._from] > edges2[0]._weight \\\n",
    "            and weights[edges3[0]._from] > edges3[0]._weight:\n",
    "                return True\n",
    "        return False        \n",
    "        "
   ]
  },
  {
   "cell_type": "code",
   "execution_count": null,
   "metadata": {
    "colab": {
     "base_uri": "https://localhost:8080/",
     "height": 466
    },
    "colab_type": "code",
    "id": "Ws9xLQwtbiP1",
    "outputId": "b1bc9cbc-e268-48de-941b-8031ef2d4f4f"
   },
   "outputs": [
    {
     "data": {
      "image/png": "[encoded data removed]",
      "text/plain": [
       "<Figure size 1152x576 with 1 Axes>"
      ]
     },
     "metadata": {
      "tags": []
     },
     "output_type": "display_data"
    }
   ],
   "source": [
    "g = PreferenceGraph(5, '000000000')\n",
    "g.draw_edges()"
   ]
  },
  {
   "cell_type": "code",
   "execution_count": null,
   "metadata": {
    "colab": {},
    "colab_type": "code",
    "collapsed": true,
    "id": "Mcwrdr_ovyok"
   },
   "outputs": [],
   "source": [
    "threes = np.array(np.meshgrid([0, 3, 6], [1, 4, 7], [2, 8, 5])).T.reshape(-1, 3)\n",
    "check = lambda a: len(np.array(a).flatten()) == len(set(np.array(a).flatten()))\n",
    "threes_combs = list(filter(check, combinations(threes, 3))) + list(\n",
    "    filter(check, combinations(threes, 2))) + [tuple([t]) for t in threes]"
   ]
  },
  {
   "cell_type": "code",
   "execution_count": null,
   "metadata": {
    "colab": {
     "base_uri": "https://localhost:8080/",
     "height": 51
    },
    "colab_type": "code",
    "id": "dhORcHrudS4t",
    "outputId": "76596c8e-e275-45d7-81a9-e2ea5b274256"
   },
   "outputs": [
    {
     "name": "stdout",
     "output_type": "stream",
     "text": [
      "[] (array([0, 1, 2]),)\n",
      "[] (array([0, 7, 8]),)\n"
     ]
    }
   ],
   "source": [
    "print(g.check_threes_comb(threes_combs[144]), threes_combs[144])\n",
    "print(g.check_threes_comb(threes_combs[155]), threes_combs[155])"
   ]
  },
  {
   "cell_type": "code",
   "execution_count": null,
   "metadata": {
    "colab": {},
    "colab_type": "code",
    "collapsed": true,
    "id": "hx01zC7pdVMi"
   },
   "outputs": [],
   "source": [
    "g.find_blocking_for_comb(threes_combs[155])"
   ]
  },
  {
   "cell_type": "code",
   "execution_count": null,
   "metadata": {
    "colab": {},
    "colab_type": "code",
    "collapsed": true,
    "id": "PxLCXc-zdayZ"
   },
   "outputs": [],
   "source": [
    "def make_string(x):\n",
    "    '''\n",
    "    из числа \\in {0, ..., 5^9 - 1} делает \n",
    "    строку длины 9 с его пятиричной записью \n",
    "    '''\n",
    "    return '0' * (9 - len(np.base_repr(x, 5))) + np.base_repr(x, 5)"
   ]
  },
  {
   "cell_type": "code",
   "execution_count": null,
   "metadata": {
    "colab": {},
    "colab_type": "code",
    "collapsed": true,
    "id": "XSXJcKHZxEea"
   },
   "outputs": [],
   "source": [
    "from tqdm import tqdm"
   ]
  },
  {
   "cell_type": "code",
   "execution_count": null,
   "metadata": {
    "colab": {
     "base_uri": "https://localhost:8080/",
     "height": 51
    },
    "colab_type": "code",
    "id": "GoN_E15Ywgkl",
    "outputId": "a7241c6e-06b4-467b-de21-a85e9d834d56"
   },
   "outputs": [
    {
     "name": "stderr",
     "output_type": "stream",
     "text": [
      "100%|██████████| 1953125/1953125 [35:51<00:00, 907.89it/s] "
     ]
    },
    {
     "name": "stdout",
     "output_type": "stream",
     "text": [
      "OK for index = 0\n"
     ]
    },
    {
     "name": "stderr",
     "output_type": "stream",
     "text": [
      "\n"
     ]
    }
   ],
   "source": [
    "special = None\n",
    "for code in tqdm(range(5 ** 9)):\n",
    "    g = PreferenceGraph(0, make_string(code))\n",
    "    comb_results = []\n",
    "    for comb in threes_combs:\n",
    "        comb_results.append(g.find_blocking_for_comb(comb))\n",
    "        if comb_results[-1] == False:\n",
    "          break\n",
    "    if comb_results[-1] is not False and True in comb_results:\n",
    "        break\n",
    "if special is None:\n",
    "    print('OK for index = 0'.format())                 "
   ]
  },
  {
   "cell_type": "code",
   "execution_count": null,
   "metadata": {
    "colab": {
     "base_uri": "https://localhost:8080/",
     "height": 119
    },
    "colab_type": "code",
    "id": "qIf0_JX3fcIw",
    "outputId": "1054b399-2cb5-4bd1-c6ea-fb75d0f74345"
   },
   "outputs": [
    {
     "name": "stderr",
     "output_type": "stream",
     "text": [
      " 20%|██        | 1/5 [10:22<41:30, 622.52s/it]"
     ]
    },
    {
     "name": "stdout",
     "output_type": "stream",
     "text": [
      "OK for index = 1\n"
     ]
    },
    {
     "name": "stderr",
     "output_type": "stream",
     "text": [
      "\r",
      " 40%|████      | 2/5 [21:41<31:58, 639.35s/it]"
     ]
    },
    {
     "name": "stdout",
     "output_type": "stream",
     "text": [
      "OK for index = 2\n"
     ]
    },
    {
     "name": "stderr",
     "output_type": "stream",
     "text": [
      "\r",
      " 60%|██████    | 3/5 [41:17<26:40, 800.46s/it]"
     ]
    },
    {
     "name": "stdout",
     "output_type": "stream",
     "text": [
      "OK for index = 3\n"
     ]
    },
    {
     "name": "stderr",
     "output_type": "stream",
     "text": [
      "\r",
      " 80%|████████  | 4/5 [1:01:09<15:17, 917.79s/it]"
     ]
    },
    {
     "name": "stdout",
     "output_type": "stream",
     "text": [
      "OK for index = 4\n"
     ]
    },
    {
     "name": "stderr",
     "output_type": "stream",
     "text": [
      "100%|██████████| 5/5 [1:06:23<00:00, 796.79s/it]"
     ]
    },
    {
     "name": "stdout",
     "output_type": "stream",
     "text": [
      "OK for index = 5\n"
     ]
    },
    {
     "name": "stderr",
     "output_type": "stream",
     "text": [
      "\n"
     ]
    }
   ],
   "source": [
    "for index in tqdm(range(1, 6)):\n",
    "    special = None\n",
    "    for code in range(5 ** 9):\n",
    "        g = PreferenceGraph(index, make_string(code))\n",
    "        comb_results = []\n",
    "        for comb in threes_combs:\n",
    "            comb_results.append(g.find_blocking_for_comb(comb))\n",
    "            if comb_results[-1] == False:\n",
    "                break\n",
    "        if (comb_results[-1] is not False) and (True in comb_results):\n",
    "            break\n",
    "    if special is None:\n",
    "        print('OK for index = {}'.format(str(index)))\n",
    "    else:\n",
    "        break            "
   ]
  },
  {
   "cell_type": "code",
   "execution_count": null,
   "metadata": {
    "colab": {
     "base_uri": "https://localhost:8080/",
     "height": 34
    },
    "colab_type": "code",
    "id": "briQ9QT_r7vD",
    "outputId": "fa9b2507-3491-4aad-9f5d-be6787a3f80f"
   },
   "outputs": [
    {
     "data": {
      "text/plain": [
       "True"
      ]
     },
     "execution_count": 12,
     "metadata": {
      "tags": []
     },
     "output_type": "execute_result"
    }
   ],
   "source": [
    "special is None"
   ]
  },
  {
   "cell_type": "code",
   "execution_count": null,
   "metadata": {
    "colab": {},
    "colab_type": "code",
    "collapsed": true,
    "id": "WLYHz03F0NwU"
   },
   "outputs": [],
   "source": []
  }
 ],
 "metadata": {
  "colab": {
   "collapsed_sections": [],
   "name": "3dsm",
   "provenance": []
  },
  "kernelspec": {
   "display_name": "Python 3",
   "language": "python",
   "name": "python3"
  },
  "language_info": {
   "codemirror_mode": {
    "name": "ipython",
    "version": 3
   },
   "file_extension": ".py",
   "mimetype": "text/x-python",
   "name": "python",
   "nbconvert_exporter": "python",
   "pygments_lexer": "ipython3",
   "version": "3.6.1"
  }
 },
 "nbformat": 4,
 "nbformat_minor": 1
}
